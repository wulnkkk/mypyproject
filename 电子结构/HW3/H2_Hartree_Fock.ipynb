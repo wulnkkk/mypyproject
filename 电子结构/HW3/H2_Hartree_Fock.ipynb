{
 "cells": [
  {
   "cell_type": "markdown",
   "metadata": {},
   "source": [
    "In this notebook, we will examine various pieces of the Hartree-Fock algorithm and implement a simple restricted Hartree-Fock code for H2 molecules."
   ]
  },
  {
   "cell_type": "markdown",
   "metadata": {},
   "source": [
    "What we need to do here is fill the blank to understand the workflow.\n",
    "\n",
    "This calculation is based on the cc-pvdz basis of the pyscf package. To reduce your workload, I generated the matrix and stored for your further calculation. If you are interest in using the pyscf package, please install the pyscf package and then run the matrix generation code below. Note that installing pyscf in Windows is kind of tricky and I would recommend to install pyscf through the Windows subsystem of linux (WSL)."
   ]
  },
  {
   "cell_type": "markdown",
   "metadata": {},
   "source": [
    "Calculate the overlapping matrix S, the kinetic energy, potential energy and the four electron integral matrix using pyscf"
   ]
  },
  {
   "cell_type": "code",
   "execution_count": 1,
   "metadata": {},
   "outputs": [
    {
     "data": {
      "text/plain": [
       "'\\nimport numpy as np\\nimport scipy.linalg\\nfrom pyscf import gto\\n\\n\\nr=1.4\\n# Set up H2 molecular geometry and basis\\nmol = gto.M(\\n    atom = [[\\'H\\', (0, 0, 0)],\\n            [\\'H\\', (r, 0, 0)]],\\n    basis = \\'cc-pvdz\\', unit=\"bohr\")\\n\\n# Let\\'s compute all the relevant gaussian integrals. We first compute\\n# the 1e integrals: overlap, electron-nuclear, and kinetic-energy integrals.\\n# The string codes for all the different integrals can be accessed by typing\\n# help(gto.moleintor.getints)\\ns=mol.intor(\"int1e_ovlp_sph\")\\nt=mol.intor(\"int1e_kin_sph\")\\nvne=mol.intor(\"int1e_nuc_sph\")\\n\\nnao = mol.nao_nr()\\nprint(\"Total number of basis fns:\", mol.nao_nr())\\nprint(s.shape)\\nprint(t.shape)\\nprint(vne.shape)\\n\\n# Let\\'s now also compute the two-electron integrals\\nV=mol.intor(\"int2e_sph\",aosym=1)\\nV=np.reshape(V,[nao,nao,nao,nao])\\n\\nnp.savetxt(\\n    \\'S_matrix\\',\\n    s)\\nnp.savetxt(\\n    \\'T_matrix\\',\\n    t)\\nnp.savetxt(\\n    \\'V_nuclei_matrix\\',\\n    vne)\\n\\nnp.savetxt(\\n    \\'V_matrix\\',\\n    V.flatten())\\n'"
      ]
     },
     "execution_count": 1,
     "metadata": {},
     "output_type": "execute_result"
    }
   ],
   "source": [
    "# set up the H2 molecule \n",
    "# 如果想跑这一段程序，请在Linux/WSL系统中安装pyscf包\n",
    "\"\"\"\n",
    "import numpy as np\n",
    "import scipy.linalg\n",
    "from pyscf import gto\n",
    "\n",
    "\n",
    "r=1.4\n",
    "# Set up H2 molecular geometry and basis\n",
    "mol = gto.M(\n",
    "    atom = [['H', (0, 0, 0)],\n",
    "            ['H', (r, 0, 0)]],\n",
    "    basis = 'cc-pvdz', unit=\"bohr\")\n",
    "\n",
    "# Let's compute all the relevant gaussian integrals. We first compute\n",
    "# the 1e integrals: overlap, electron-nuclear, and kinetic-energy integrals.\n",
    "# The string codes for all the different integrals can be accessed by typing\n",
    "# help(gto.moleintor.getints)\n",
    "s=mol.intor(\"int1e_ovlp_sph\")\n",
    "t=mol.intor(\"int1e_kin_sph\")\n",
    "vne=mol.intor(\"int1e_nuc_sph\")\n",
    "\n",
    "nao = mol.nao_nr()\n",
    "print(\"Total number of basis fns:\", mol.nao_nr())\n",
    "print(s.shape)\n",
    "print(t.shape)\n",
    "print(vne.shape)\n",
    "\n",
    "# Let's now also compute the two-electron integrals\n",
    "V=mol.intor(\"int2e_sph\",aosym=1)\n",
    "V=np.reshape(V,[nao,nao,nao,nao])\n",
    "\n",
    "np.savetxt(\n",
    "    'S_matrix',\n",
    "    s)\n",
    "np.savetxt(\n",
    "    'T_matrix',\n",
    "    t)\n",
    "np.savetxt(\n",
    "    'V_nuclei_matrix',\n",
    "    vne)\n",
    "\n",
    "np.savetxt(\n",
    "    'V_matrix',\n",
    "    V.flatten())\n",
    "\"\"\""
   ]
  },
  {
   "cell_type": "markdown",
   "metadata": {},
   "source": [
    "Going back to our normal process, using the matrix I previously generated. Here the system is a H2 molecules separated by 1.4 Bohr distance. What we do here is to solve the ground state many body equation to find the energy of thus configuration.\n",
    "\n",
    "Here we are dealing with a specific type of basis function called cc-pvdz, which is very famous in the computational chemistry."
   ]
  },
  {
   "cell_type": "markdown",
   "metadata": {},
   "source": [
    "Load the overlapping matrix (S), kinetic energy matrix (T), the nuclei-electron energy (V_ne) and the two-electron intergal matrix (V). "
   ]
  },
  {
   "cell_type": "code",
   "execution_count": 1,
   "metadata": {},
   "outputs": [],
   "source": [
    "import numpy as np\n",
    "from scipy.linalg import eig as Eig #用来计算广义特征值\n",
    "\n",
    "\n",
    "S = np.loadtxt('S_matrix')\n",
    "T = np.loadtxt('T_matrix')\n",
    "V_ne = np.loadtxt('V_nuclei_matrix')\n",
    "V = np.loadtxt('V_matrix').reshape([10,10,10,10]) # Using 5 basis function on one atom, so the total number of dimension is 10"
   ]
  },
  {
   "cell_type": "code",
   "execution_count": 10,
   "metadata": {},
   "outputs": [
    {
     "name": "stdout",
     "output_type": "stream",
     "text": [
      "(10, 10)\n"
     ]
    },
    {
     "data": {
      "image/png": "[encoded data removed]",
      "text/plain": [
       "<Figure size 640x480 with 1 Axes>"
      ]
     },
     "metadata": {},
     "output_type": "display_data"
    }
   ],
   "source": [
    "import matplotlib.pyplot as plt\n",
    "plt.imshow(V_ne)\n",
    "print(V_ne.shape)"
   ]
  },
  {
   "cell_type": "markdown",
   "metadata": {},
   "source": [
    "There are many different conventions for the ordering of the indices of V. Here, it is defined as\n",
    "$$ V_{ijkl} = \\int \\int d\\mathbf{r_1} d\\mathbf{r_2} \\phi_i^*(\\mathbf{r_1}) \\phi_j(\\mathbf{r_1}) \\frac{1}{|\\mathbf{r_1} - \\mathbf{r_2}|}\\phi_k^*(\\mathbf{r_2}) \\phi_l(\\mathbf{r_2})$$\n",
    "This is sometimes called the chemists' notation, and it is used because it allows Hartree-Fock programs to be written more efficiently using matrix multiplication. Note that it is different from the index ordering in lectures, which followed naturally from Dirac notation. One way to tell which ordering you are using is to inspect the $V_{0011}$ versus $V_{0101}$ element. If $V_{0011}>V_{0101}$ the integrals probably follow the chemists' convention, otherwise they likely follow the Dirac convention. "
   ]
  },
  {
   "cell_type": "code",
   "execution_count": 3,
   "metadata": {},
   "outputs": [
    {
     "name": "stdout",
     "output_type": "stream",
     "text": [
      "(10, 10)\n",
      "(10, 10)\n",
      "(10, 10)\n",
      "(10, 10, 10, 10)\n"
     ]
    }
   ],
   "source": [
    "# 查看各个矩阵的维度\n",
    "print(S.shape)\n",
    "print(T.shape)\n",
    "print(V_ne.shape)\n",
    "print(V.shape)"
   ]
  },
  {
   "cell_type": "markdown",
   "metadata": {},
   "source": [
    "Here the number of basis function is 10 (2 atoms times 5 basis per atom). Thus the matrix we are dealing with is 10."
   ]
  },
  {
   "cell_type": "markdown",
   "metadata": {},
   "source": [
    "Now we are ready to see how restricted Hartree-Fock is implemented. Once the integrals are obtained, the restricted Hartree-Fock loop is as follows:\n",
    " - For the set of $M$ basis functions and $N$ electrons ($N$ even), write a function that builds the Fock matrix $\\mathbf{f}$ from the density matrix $\\mathbf{D}$ (both $M \\times M$ matrices) following \n",
    " $$\\mathbf{f} = \\mathbf{h} + \\mathbf{J} + \\mathbf{K}$$\n",
    " \n",
    " The one-electron Hamiltonian. (kinetic + nuclei potential energy)\n",
    " \n",
    " $$h_{pq} = t_{pq} + v_{pq}$$\n",
    " \n",
    " The Coulomb matrix, which can be calculated via the density matrix (密度矩阵)\n",
    "  \n",
    " $$J_{pq} = \\sum_{rs} D_{rs} V_{pqrs}$$\n",
    " \n",
    " The Exchange matrix.\n",
    " \n",
    " $$K_{pq} = -\\frac{1}{2}\\sum_{rs} D_{rs} V_{prqs}$$\n",
    " \n",
    " The expression here is a little bit different from the slides in the course. Does not matter at all!\n",
    " \n",
    " \n",
    " - Diagonalize the Fock matrix following $$ \\mathbf{f} \\mathbf{C} = \\mathbf{S} \\mathbf{C} \\epsilon$$\n",
    " - build a new density matrix $\\mathbf{D}$ with elements $$D_{pq} = 2 \\sum_{i}^{N/2} C_{pi} C_{qi}$$\n",
    " - The N is number of electrons, 2 in our case, thus the sum over $i$ to $N/2$ means counting on all <font color=Red>occupied</font>\n",
    " states. This is to say that we at most have 10 states, but only $N/2$ is occuplied to build the Slatter Determinant.\n",
    " \n",
    " Fill in the code below to compute $\\mathbf{J}$, $\\mathbf{K}$, and $\\mathbf{f}$ and Hartree-Fock energy. The restricted Hartree-Fock energy is\n",
    " $$E=\\sum_{pq} h_{pq} D_{pq} + \\sum_{pq} (J_{pq}+K_{pq}) D_{pq}$$\n",
    " \n",
    " The density matrix and Fock matrix diagonalization code is already provided."
   ]
  },
  {
   "cell_type": "markdown",
   "metadata": {},
   "source": [
    "Copy our eigenvalue solver here."
   ]
  },
  {
   "cell_type": "code",
   "execution_count": 11,
   "metadata": {},
   "outputs": [],
   "source": [
    "def Equation_solver(F,S):\n",
    "    e_val,e_state = Eig(F,S) # 求解特征值 eigenvalue\n",
    "    idx = e_val.argsort() #对特征值从小到大进行排列\n",
    "    e_val = e_val[idx] #排列特征值\n",
    "    e_state = e_state[:,idx] # 排列特征向量\n",
    "    #下面计算归一化因子factor\n",
    "    factor = 1/np.sqrt(np.einsum('pl,pq,ql -> l',e_state,S,e_state))\n",
    "    e_state = factor*e_state\n",
    "    \n",
    "    e_val = np.real(e_val)\n",
    "    return e_val,e_state #返回特征值与特征向量，这里特征值是各个态的能量"
   ]
  },
  {
   "cell_type": "markdown",
   "metadata": {},
   "source": [
    "A trial computation."
   ]
  },
  {
   "cell_type": "code",
   "execution_count": 13,
   "metadata": {},
   "outputs": [],
   "source": [
    "nao = len(S) # Number of the atomic orbitals\n",
    "nelec = 2 # Number of electron is 2 in H2 molecules\n",
    "\n",
    "dm=np.ones([nao,nao]) # 对密度的初始猜测\n",
    "J = np.einsum('rs,pqrs->pq',dm,V) # 计算J矩阵，库伦/Hartree项\n",
    "K = -1/2*np.einsum('rs,prqs->pq',dm,V) #计算K，交换项, The only difference compared with the Hartree Calculation.\n",
    "F = T + V_ne + J + K # h就是t和vne的部分，单电子积分\n",
    "eigs,coeffs=Equation_solver(F,S)\n",
    "\n",
    "#dm = np.zeros_like(F) # Initial Guess of The Density Matrix.\n",
    "coeff_occupied = coeffs[:,:int(nelec/2)] # Only takes the oppupied state, (sum from 1 to N in the density calulation)\n",
    "dm = 2 * np.einsum('pi,qi -> pq',coeff_occupied,coeff_occupied) # Calculate the updated density matrix"
   ]
  },
  {
   "cell_type": "code",
   "execution_count": 14,
   "metadata": {},
   "outputs": [],
   "source": [
    "def cal_new_dm(dm): # 封装一下上述密度矩阵的迭代过程\n",
    "    J = np.einsum('rs,pqrs->pq',dm,V)\n",
    "    K = -1/2*np.einsum('rs,prqs->pq',dm,V)\n",
    "    F = T + V_ne + J + K \n",
    "    eigs,coeffs=Equation_solver(F,S)\n",
    "    coeff_occupied = coeffs[:,:int(nelec/2)] # Only takes the oppupied state, (sum from 1 to N in the density calulation)\n",
    "    dm = 2 * np.einsum('pi,qi -> pq',coeff_occupied,coeff_occupied) # Calculate the updated density matrix\n",
    "    return dm\n",
    "\n",
    "def hf_energy(dm): # 能量计算器，输入密度矩阵，输出体系能量,参考上述公式\n",
    "    J = np.einsum('rs,pqrs->pq',dm,V)\n",
    "    K = -1/2*np.einsum('rs,prqs->pq',dm,V)\n",
    "    E_1 = np.einsum('pq,pq',T + V_ne,dm)\n",
    "    E_2 = np.einsum('pq,pq',J + K,dm)\n",
    "    return E_1+E_2"
   ]
  },
  {
   "cell_type": "markdown",
   "metadata": {},
   "source": [
    "In every iteration, we have new density matrix and total energy."
   ]
  },
  {
   "cell_type": "code",
   "execution_count": 15,
   "metadata": {},
   "outputs": [],
   "source": [
    "dm=np.zeros([nao,nao]) # 初始猜测\n",
    "E= hf_energy(dm)\n",
    "E_list = [E] # Save the first energy calculation\n",
    "\n",
    "#迭代开始， scf过程\n",
    "i = 1\n",
    "while (i<20): # At most 20 iteration\n",
    "    E_old = E\n",
    "    dm = cal_new_dm(dm)\n",
    "    E = hf_energy(dm)\n",
    "    E_list.append(E)\n",
    "    i = i + 1\n",
    "    if abs(E-E_old)<1e-12:\n",
    "        break"
   ]
  },
  {
   "cell_type": "code",
   "execution_count": 10,
   "metadata": {},
   "outputs": [
    {
     "data": {
      "text/plain": [
       "Text(0, 0.5, 'Energy (Hartree)')"
      ]
     },
     "execution_count": 10,
     "metadata": {},
     "output_type": "execute_result"
    },
    {
     "data": {
      "image/png": "[encoded data removed]",
      "text/plain": [
       "<Figure size 1280x960 with 1 Axes>"
      ]
     },
     "metadata": {},
     "output_type": "display_data"
    }
   ],
   "source": [
    "import matplotlib.pyplot as plt\n",
    "\n",
    "plt.figure(dpi=200)\n",
    "plt.plot(E_list[1:],'-*r')\n",
    "plt.xlabel('# of Iteration',fontsize=18)\n",
    "plt.ylabel('Energy (Hartree)',fontsize=18)"
   ]
  },
  {
   "cell_type": "markdown",
   "metadata": {},
   "source": [
    "A summarized computation."
   ]
  },
  {
   "cell_type": "code",
   "execution_count": 11,
   "metadata": {},
   "outputs": [
    {
     "name": "stdout",
     "output_type": "stream",
     "text": [
      "The converged energy is -1.1843 Hartree\n"
     ]
    }
   ],
   "source": [
    "import numpy as np\n",
    "from scipy.linalg import eig as Eig #用来计算广义特征值\n",
    "\n",
    "# Load the matrix\n",
    "S = np.loadtxt('S_matrix')\n",
    "T = np.loadtxt('T_matrix')\n",
    "V_ne = np.loadtxt('V_nuclei_matrix')\n",
    "V = np.loadtxt('V_matrix').reshape([10,10,10,10])\n",
    "\n",
    "# System setup\n",
    "nao = len(S) \n",
    "nelec = 2 # Number of electron is 2 in H2 molecules\n",
    "\n",
    "def Equation_solver(F,S):\n",
    "    e_val = Eig(F,S)[0] # 求解特征值 eigenvalue\n",
    "    e_state = Eig(F,S)[1] # 求解特征向量, 得到的其实是一个矩阵\n",
    "    idx = e_val.argsort() #对特征值从小到大进行排列\n",
    "    e_val = e_val[idx] #排列特征值\n",
    "    e_state = e_state[:,idx] # 排列特征向量\n",
    "    #下面计算归一化因子factor\n",
    "    factor = 1/np.sqrt(np.einsum('pl,pq,ql -> l',e_state,S,e_state))\n",
    "    e_state = factor*e_state\n",
    "    e_val = np.real(e_val)\n",
    "    return e_val,e_state #返回特征值与特征向量，这里特征值是各个态的能量\n",
    "\n",
    "def cal_new_dm(dm):\n",
    "    J = np.einsum('rs,pqrs->pq',dm,V)\n",
    "    K = -1/2*np.einsum('rs,prqs->pq',dm,V)\n",
    "    F = T + V_ne + J + K \n",
    "    eigs,coeffs=Equation_solver(F,S)\n",
    "    coeff_occupied = coeffs[:,:int(nelec/2)] # Only takes the oppupied state, (sum from 1 to N in the density calulation)\n",
    "    dm = 2 * np.einsum('pi,qi -> pq',coeff_occupied,coeff_occupied) # Calculate the updated density matrix\n",
    "    return dm\n",
    "\n",
    "def hf_energy(dm):\n",
    "    J = np.einsum('rs,pqrs->pq',dm,V)\n",
    "    K = -1/2*np.einsum('rs,prqs->pq',dm,V)\n",
    "    E_1 = np.einsum('pq,pq',T + V_ne,dm)\n",
    "    E_2 = np.einsum('pq,pq',J + K,dm)\n",
    "    return E_1+E_2\n",
    "\n",
    "dm=np.zeros([nao,nao]) # 初始猜测\n",
    "E= hf_energy(dm)\n",
    "E_list = [E] # Save the first energy calculation\n",
    "\n",
    "\n",
    "#迭代开始， scf过程\n",
    "i= 1\n",
    "while (i<20): # At most 20 iteration\n",
    "    E_old = E\n",
    "    dm = cal_new_dm(dm)\n",
    "    E = hf_energy(dm)\n",
    "    E_list.append(E)\n",
    "    i = i + 1\n",
    "    if abs(E-E_old)<1e-12:\n",
    "        break\n",
    "        \n",
    "print('The converged energy is {0:.4f} Hartree'.format(E_list[-1]))"
   ]
  },
  {
   "cell_type": "code",
   "execution_count": null,
   "metadata": {},
   "outputs": [],
   "source": []
  }
 ],
 "metadata": {
  "anaconda-cloud": {},
  "kernelspec": {
   "display_name": "Python 3 (ipykernel)",
   "language": "python",
   "name": "python3"
  },
  "language_info": {
   "codemirror_mode": {
    "name": "ipython",
    "version": 3
   },
   "file_extension": ".py",
   "mimetype": "text/x-python",
   "name": "python",
   "nbconvert_exporter": "python",
   "pygments_lexer": "ipython3",
   "version": "3.9.13"
  },
  "vscode": {
   "interpreter": {
    "hash": "10061956f34388125130606d22c8a44f3cfb10bf6c84a2d2a2734fa1eb3d9cff"
   }
  }
 },
 "nbformat": 4,
 "nbformat_minor": 2
}
